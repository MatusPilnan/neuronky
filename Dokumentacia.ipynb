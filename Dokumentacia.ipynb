{
 "cells": [
  {
   "cell_type": "markdown",
   "metadata": {},
   "source": [
    "Dokumentácia\n",
    "===========\n",
    "Tento dokument slúži ako dokumentácia konvolučnej neurónovej siete zamerannej filtrovanie zašumeného obrazu.\n",
    "\n",
    "V súbore `models.py` je model navrhnutej neurónovej siete.\n",
    "\n",
    "V súbore `utils.py` sú pomocné funkcie na predspracovanie a načítanie dát.\n",
    "\n",
    "V súbore `nsiete.py` je hlavný skript, ktorý načíta dáta a spustí trénovanie.\n",
    "\n",
    "## Návrh architektúry\n",
    "Baseline riešenie je implementáciou DnCNN architektúry navrhnutej v [tejto práci](https://arxiv.org/pdf/1608.03981.pdf)\n",
    "\n",
    "![Diagram architektúry v pôvodnej práci](https://www.researchgate.net/profile/Yunjin_Chen/publication/306187437/figure/fig4/AS:667093628379148@1536058923422/The-architecture-of-the-proposed-DnCNN-network.png)\n",
    "Diagram architektúry v pôvodnej práci.\n",
    "\n",
    "Táto architektúra má na výstupe obrázok pozostávajúci len zo šumu, preto sme na koniec modelu pridali vrstvu, ktorá odpočíta šum od pôvodného obrázku.\n",
    "\n",
    "Neurónová sieť pozostáva zo série konvolučných vrstiev používajúcich konvolučné jadro o veľkosti 3x3 posúvajúcich sa po jednom pixeli. Aktivačná funkcia je ReLU. Počet vrstiev nie je pevne daný, ale aj jeho určenie je súčasťou experimentu (minimálny počet je dve). Všetky konvolučné vrstvy okrem záverečnej obsahujú 64 filtrov, záverečná iba 3. Súčasťou siete sú aj vrsty ZeroPadding2D a Cropping2D na opačných koncoch architektúry, ktoré pridávajú vstupným obrázkom padding za účelom odstránenia artefaktov po krajoch výsledného obrázku. Druhá až predposledná vrstva využívajú aj _batch normalization_.\n",
    "\n",
    "Naše riešenie sme natrénovali s hĺbkou 17, čo činí vyše 60 jednotlivých vrstiev.\n",
    "\n",
    "## Tréning\n",
    "Model sme natrénovali počas 10 epoch, pričom v každej epoche dostal model 20000 kúskov obrázkov. Ako metriku sme použili `accuracy`, ako stratovú funkciu sme použili upravené MSE. \n",
    "![Presnosť](/images/acc.png)  \n",
    "![Stratová funkcia](/images/loss.png)  \n",
    "Ružová farba označuje testovaciu množinu, modrá trénovaciu.\n"
   ]
  }
 ],
 "metadata": {
  "kernelspec": {
   "display_name": "Python 3",
   "language": "python",
   "name": "python3"
  },
  "language_info": {
   "codemirror_mode": {
    "name": "ipython",
    "version": 3
   },
   "file_extension": ".py",
   "mimetype": "text/x-python",
   "name": "python",
   "nbconvert_exporter": "python",
   "pygments_lexer": "ipython3",
   "version": "3.7.5"
  },
  "pycharm": {
   "stem_cell": {
    "cell_type": "raw",
    "source": [],
    "metadata": {
     "collapsed": false
    }
   }
  }
 },
 "nbformat": 4,
 "nbformat_minor": 2
}