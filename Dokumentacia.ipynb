{
 "cells": [
  {
   "cell_type": "markdown",
   "metadata": {},
   "source": [
    "Dokumentácia\n",
    "===========\n",
    "Tento dokument slúži ako dokumentácia konvolučnej neurónovej siete zamerannej filtrovanie zašumeného obrazu.\n",
    "\n",
    "## Návrh architektúry\n",
    "Neurónová sieť pozostáva zo série konvolučných vrstiev používajúcich konvolučné jadro o veľkosti 3x3 posúvajúcich sa po jednom pixeli. Aktivačná funkcia je ReLU. Počet vrstiev nie je pevne daný, ale aj jeho určenie je súčasťou experimentu (minimálny počet je dve). Všetky konvolučné vrstvy okrem záverečnej obsahujú 64 filtrov, záverečná iba 3. Súčasťou siete sú aj vrsty ZeroPadding2D a Cropping2D na opačných koncoch architektúry, ktoré pridávajú vstupným obrázkom padding za účelom odstránenia artefaktov po krajoch výsledného obrázku.\n",
    "\n",
    "\n",
    "## Diagram\n",
    "\n",
    "\n",
    "## \n"
   ]
  }
 ],
 "metadata": {
  "kernelspec": {
   "display_name": "Python 3",
   "language": "python",
   "name": "python3"
  },
  "language_info": {
   "codemirror_mode": {
    "name": "ipython",
    "version": 3
   },
   "file_extension": ".py",
   "mimetype": "text/x-python",
   "name": "python",
   "nbconvert_exporter": "python",
   "pygments_lexer": "ipython3",
   "version": "3.7.5"
  }
 },
 "nbformat": 4,
 "nbformat_minor": 2
}
