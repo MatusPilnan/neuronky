{
 "cells": [
  {
   "cell_type": "code",
   "execution_count": null,
   "outputs": [],
   "source": [
    "import tensorflow.keras\n",
    "import numpy as np\n",
    "from sklearn.model_selection import train_test_split\n",
    "import matplotlib.image as mpimg\n",
    "import re\n"
   ],
   "metadata": {
    "collapsed": false,
    "pycharm": {
     "name": "#%%\n"
    }
   }
  },
  {
   "cell_type": "code",
   "execution_count": null,
   "outputs": [],
   "source": [
    "def load_image_data(scenes=None):\n",
    "    path = 'datasets/SIDD_Small_sRGB_Only/SIDD_Small_sRGB_Only/Data/'\n",
    "    f = open('datasets/SIDD_Small_sRGB_Only/SIDD_Small_sRGB_Only/Scene_Instances.txt')\n",
    "    scene_instances = f.readlines()\n",
    "    if scenes is not None:\n",
    "        regex = ''\n",
    "        for scene in scenes:\n",
    "            regex = regex + '_%03d_|' % scene\n",
    "        regex = regex[:-1]\n",
    "        scene_instances = [i for i in scene_instances if re.search(regex, i)]\n",
    "    noisy = None\n",
    "    gt = None\n",
    "    for scene in scene_instances:\n",
    "        if noisy is None and gt is None:\n",
    "            noisy = mpimg.imread(path + scene[:-1] + '/NOISY_SRGB_010.PNG')\n",
    "            gt = mpimg.imread(path + scene[:-1] + '/GT_SRGB_010.PNG')\n",
    "        else:\n",
    "            noisy.append(mpimg.imread(path + scene[:-1] + '/NOISY_SRGB_010.PNG'))\n",
    "            n.append(mpimg.imread(path + scene[:-1] + '/GT_SRGB_010.PNG'))\n",
    "\n",
    "    return noisy, gt\n",
    "\n",
    "\n",
    "x, y = load_image_data(scenes=[1])"
   ],
   "metadata": {
    "collapsed": false,
    "pycharm": {
     "name": "#%%\n"
    }
   }
  },
  {
   "cell_type": "code",
   "execution_count": null,
   "outputs": [],
   "source": [
    "x_train, x_test, y_train, y_test = train_test_split(x, y)"
   ],
   "metadata": {
    "collapsed": false,
    "pycharm": {
     "name": "#%%\n"
    }
   }
  },
  {
   "cell_type": "code",
   "execution_count": null,
   "outputs": [],
   "source": [
    "from models import DnCNN, dcnn_loss\n",
    "\n",
    "model = DnCNN(depth=17)\n",
    "model.compile(optimizer=keras.optimizers.Adam(), loss=dcnn_loss)\n",
    "model.fit(x=x_train, y=y_train, validation_data=(x_test, y_test))\n",
    "model.summary()"
   ],
   "metadata": {
    "collapsed": false,
    "pycharm": {
     "name": "#%%\n"
    }
   }
  },
  {
   "cell_type": "code",
   "execution_count": null,
   "outputs": [],
   "source": [],
   "metadata": {
    "collapsed": false,
    "pycharm": {
     "name": "#%%\n"
    }
   }
  }
 ],
 "metadata": {
  "kernelspec": {
   "display_name": "Python 3",
   "language": "python",
   "name": "python3"
  },
  "language_info": {
   "codemirror_mode": {
    "name": "ipython",
    "version": 2
   },
   "file_extension": ".py",
   "mimetype": "text/x-python",
   "name": "python",
   "nbconvert_exporter": "python",
   "pygments_lexer": "ipython2",
   "version": "2.7.6"
  },
  "pycharm": {
   "stem_cell": {
    "cell_type": "raw",
    "source": [],
    "metadata": {
     "collapsed": false
    }
   }
  }
 },
 "nbformat": 4,
 "nbformat_minor": 0
}